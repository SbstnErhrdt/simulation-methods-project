{
 "cells": [
  {
   "cell_type": "markdown",
   "metadata": {},
   "source": [
    "# Simulation Methods Project"
   ]
  },
  {
   "cell_type": "markdown",
   "metadata": {},
   "source": [
    "Adapted from Maciej Workiewicz\n",
    "\n",
    "Authors:\n",
    "* Pauline Engel\n",
    "* Sebastian Erhardt\n",
    "* Saskia Hasreiter\n",
    "* Leo Schwarze\n",
    "* Felix Siegel\n"
   ]
  },
  {
   "cell_type": "code",
   "execution_count": 218,
   "metadata": {},
   "outputs": [],
   "source": [
    "import os\n",
    "from time import time\n",
    "import matplotlib.pyplot as plt\n",
    "import random\n",
    "import numpy as np\n",
    "import itertools"
   ]
  },
  {
   "cell_type": "code",
   "execution_count": 219,
   "metadata": {},
   "outputs": [],
   "source": [
    "N = 5  # number of detailed decisions per lower level landscape   |\n",
    "AMOUNT_OF_ITERATIONS = 1000  # we will generate 1000 NK landscapes to begin with     |"
   ]
  },
  {
   "cell_type": "code",
   "execution_count": 220,
   "metadata": {},
   "outputs": [],
   "source": [
    "K = 3"
   ]
  },
  {
   "cell_type": "code",
   "execution_count": 221,
   "metadata": {},
   "outputs": [],
   "source": [
    "power_key = np.power(2, np.arange(N - 1, -1, -1))  # used to find addresses on the landscape"
   ]
  },
  {
   "cell_type": "markdown",
   "metadata": {},
   "source": [
    "## Interaction Matrix"
   ]
  },
  {
   "cell_type": "code",
   "execution_count": 222,
   "metadata": {},
   "outputs": [],
   "source": [
    "def generate_random_interaction_matrix():\n",
    "    '''\n",
    "    This function takes the number of N elements and K interdependencies\n",
    "    and creates a random N x N interaction matrix.\n",
    "    All elements on the diagonal [0,0],[1,1],...[N-1,N-1] will be 1s.\n",
    "    Based on the K, there will be additional K 1 in each row in addition to the diagonal.\n",
    "    '''\n",
    "    Int_matrix_rand = np.zeros((N, N)) # generate a N x N Matrix\n",
    "    for aa1 in np.arange(N): # iterate over the indexes from 0,1,... to N\n",
    "        Indexes_1 = list(range(N)) # generate a list from 0,1,... to N\n",
    "        Indexes_1.remove(aa1)  # remove aa1 index e.g. remove 2 from the list\n",
    "        np.random.shuffle(Indexes_1) # shuffle the indexes\n",
    "        Indexes_1.append(aa1) # add the removed index again at the end\n",
    "        Chosen_ones = Indexes_1[-(K+1):]  # extract the last K indexes in the shuffled \n",
    "        for aa2 in Chosen_ones: # iterate over the extracted indexes\n",
    "            Int_matrix_rand[aa1, aa2] = 1  # set the poistion to 1 in the result matrix\n",
    "    return(Int_matrix_rand)"
   ]
  },
  {
   "cell_type": "markdown",
   "metadata": {},
   "source": [
    "## Fitness Calculation"
   ]
  },
  {
   "cell_type": "code",
   "execution_count": 224,
   "metadata": {},
   "outputs": [],
   "source": [
    "def calculate_fitness_vector(landscape, interaction_matrix, position, power_key):\n",
    "    '''\n",
    "    Takes the landscape, an interaction matrix and a given combination and returns a vector of fitness\n",
    "    values for the vector of the N decision variables.\n",
    "    '''\n",
    "    result = np.zeros(N) # initialize the fitness vector with length N and 0\n",
    "    for y in np.arange(N):\n",
    "        x = np.sum(position * interaction_matrix[y] * power_key)\n",
    "        result[y] = landscape[x, y]\n",
    "    return(result)"
   ]
  },
  {
   "cell_type": "markdown",
   "metadata": {},
   "source": [
    "## Calc Values for Landscapes"
   ]
  },
  {
   "cell_type": "code",
   "execution_count": 225,
   "metadata": {},
   "outputs": [],
   "source": [
    "def generate_landscape():\n",
    "    \"\"\"\n",
    "    Calculates values for all positions on the landscape. The resulting\n",
    "    array contains:\n",
    "    - the first columns indexed from 0 to N-1 are for each of the combinations\n",
    "    - columns indexed from N to 2*N-1 are for the fit value (vector) of those combinations\n",
    "    - the column indexed 2N is for the total fit (average of the entire vector)\n",
    "    - column indexed 2N+1 is a dummy, with 1 indicating a local peak\n",
    "    - the last column is a dummy, with 1 indicating the global peak\n",
    "    \"\"\"\n",
    "    # generate a random interaction matrix\n",
    "    interaction_matrix = generate_random_interaction_matrix().astype(int)\n",
    "    # generate a random 2^N x N matrix\n",
    "    # in every cell there is a random value between 0 and 1\n",
    "    random_landscape = np.random.rand(2**N, N)  # this is a table of random U(0,1) numbers\n",
    "    \n",
    "    # inizialize a result matrix \n",
    "    # with the dimensions 2^N and N*2+3\n",
    "    # the + 3 store the:\n",
    "    # - the mean of the fitness vector\n",
    "    # - if the position is a lokal peak\n",
    "    # - if the position is a global peak\n",
    "    result = np.zeros((2**N, N*2+3))  # to capture the results\n",
    "    position_counter = 0  # starting counter for location\n",
    "    \n",
    "    # iterate over all possible representations of a list of the lenth of N\n",
    "    # filled with 0s and 1s\n",
    "    # starting with [0,0,0,0,..]\n",
    "    # ending with [1,1,1,1,..]\n",
    "    # so in the end there are 2^N combinations\n",
    "    # imagine these combination as the position in the landscape\n",
    "    for i in range(2**N):\n",
    "        position = np.array(list(np.binary_repr(i).zfill(N))).astype(int) # taking each position\n",
    "        \n",
    "        # now calculate the fitness vector\n",
    "        fit_1 = calculate_fitness_vector(random_landscape, interaction_matrix, position, power_key)\n",
    "        \n",
    "        result[position_counter, :N] = position  # store the position in the matrix\n",
    "        result[position_counter, N:2*N] = fit_1\n",
    "        result[position_counter, 2*N] = np.mean(fit_1)\n",
    "        position_counter = position_counter + 1\n",
    "    \n",
    "\n",
    "    # look for the peaks    \n",
    "    for c3 in np.arange(2**N):  # now let's see if it is a local peak\n",
    "        loc_p = 1  # first, assume it is\n",
    "        for c4 in np.arange(N):  # check the local neighbourhood\n",
    "            new_comb = result[c3, :N].copy().astype(int)\n",
    "            new_comb[c4] = abs(new_comb[c4] - 1)\n",
    "            if ((result[c3, 2*N] <\n",
    "                 result[np.sum(new_comb*power_key), 2*N])):\n",
    "                loc_p = 0  # if smaller than the neighbour, then it is not peak\n",
    "        result[c3, 2*N+1] = loc_p\n",
    "    \n",
    "    # store the global peak\n",
    "    max_ind = np.argmax(result[:, 2*N]) # get the max result from the local peaks\n",
    "    result[max_ind, 2*N+2] = 1 # set the global peak to 1\n",
    "    return(result)"
   ]
  },
  {
   "cell_type": "markdown",
   "metadata": {},
   "source": [
    "## Generate Landscapes"
   ]
  },
  {
   "cell_type": "code",
   "execution_count": 226,
   "metadata": {},
   "outputs": [],
   "source": []
  },
  {
   "cell_type": "code",
   "execution_count": 231,
   "metadata": {},
   "outputs": [],
   "source": [
    "# init empty Landscape_data tensor\n",
    "# Iterations\n",
    "# Landscape\n",
    "# Results\n",
    "Landscape_data = np.zeros((AMOUNT_OF_ITERATIONS, 2**N, N*2+3))  # we prepare an array to receive the data\n",
    "\n",
    "# iterate based on AMOUNT_OF_ITERATIONS\n",
    "# generate a landscape each time\n",
    "for iteration in np.arange(AMOUNT_OF_ITERATIONS):\n",
    "    Landscape_data[iteration] = generate_landscape()"
   ]
  },
  {
   "cell_type": "markdown",
   "metadata": {},
   "source": [
    "## Statistics"
   ]
  },
  {
   "cell_type": "code",
   "execution_count": 228,
   "metadata": {},
   "outputs": [
    {
     "name": "stdout",
     "output_type": "stream",
     "text": [
      "Summary statistics for IMatrix: K=3\n",
      "average number of peaks: 3.6774193548387095\n",
      "maximum number of peaks: 6.0\n",
      "minimum number of peaks: 1.0\n",
      "average maximum value: 0.7666891155505058\n",
      "average minimum value: 0.257256353004997\n"
     ]
    },
    {
     "data": {
      "text/plain": [
       "Text(0, 0.5, 'frequency')"
      ]
     },
     "execution_count": 228,
     "metadata": {},
     "output_type": "execute_result"
    },
    {
     "data": {
      "image/png": "[encoded data removed]",
      "text/plain": [
       "<Figure size 432x288 with 1 Axes>"
      ]
     },
     "metadata": {
      "needs_background": "light"
     },
     "output_type": "display_data"
    }
   ],
   "source": [
    "number_of_peaks = np.zeros(i)\n",
    "max_values = np.zeros(i)\n",
    "min_values = np.zeros(i)\n",
    "\n",
    "for i_2 in np.arange(i):\n",
    "    number_of_peaks[i_2] = np.sum(Landscape_data[i_2, :, 2*N+1])\n",
    "    max_values[i_2] = np.max(Landscape_data[i_2, :, 2*N])\n",
    "    min_values[i_2] = np.min(Landscape_data[i_2, :, 2*N])\n",
    "\n",
    "# Let's print some summary statistics of our sample of NK landscapes\n",
    "print('Summary statistics for IMatrix: K=' + str(K))\n",
    "print('average number of peaks: ' + str(np.mean(number_of_peaks)))\n",
    "print('maximum number of peaks: ' + str(np.max(number_of_peaks)))\n",
    "print('minimum number of peaks: ' + str(np.min(number_of_peaks)))\n",
    "print('average maximum value: ' + str(np.mean(max_values)))\n",
    "print('average minimum value: ' + str(np.mean(min_values)))\n",
    "\n",
    "# plot histogram of the number of local peaks in our sample\n",
    "plt.hist(number_of_peaks, bins=20, range=(1, 20), color='dodgerblue')\n",
    "plt.title('Distribution of the number of peaks', size=12)\n",
    "plt.xlabel('number of peaks', size=10)\n",
    "plt.ylabel('frequency', size=10)"
   ]
  },
  {
   "cell_type": "markdown",
   "metadata": {},
   "source": [
    "## Search"
   ]
  },
  {
   "cell_type": "code",
   "execution_count": 229,
   "metadata": {},
   "outputs": [],
   "source": [
    "t = 50  # time periods \n",
    "p_jump = 0 # probability of a long jump in a given round"
   ]
  },
  {
   "cell_type": "code",
   "execution_count": 230,
   "metadata": {},
   "outputs": [
    {
     "name": "stdout",
     "output_type": "stream",
     "text": [
      "Final fitness level for long jumps: 0.8574446013486858\n"
     ]
    },
    {
     "data": {
      "image/png": "[encoded data removed]",
      "text/plain": [
       "<Figure size 576x432 with 1 Axes>"
      ]
     },
     "metadata": {},
     "output_type": "display_data"
    }
   ],
   "source": [
    "# *** 2. LOCAL SEARCH WITH LONG JUMPS ***************************************\n",
    "\n",
    "Output2 = np.zeros((i, t))\n",
    "\n",
    "for i1 in np.arange(i):\n",
    "    combination = np.random.binomial(1, 0.5, N)  # gen initial combination\n",
    "    row = np.sum(combination*power_key)  # finding the address in the array\n",
    "    fitness = Landscape_data[i1, row, 2*N]  # piggyback on work done previously\n",
    "    max_fit = np.max(Landscape_data[i1, :, 2*N])  # we will use it for normalization\n",
    "    min_fit = np.min(Landscape_data[i1, :, 2*N])  # ditto\n",
    "    fitness_norm = (fitness - min_fit)/(max_fit - min_fit)  # normalize 0 to 1\n",
    "    for t1 in np.arange(t):  # time for local search\n",
    "        Output2[i1, t1] = fitness_norm\n",
    "        if np.random.rand() < p_jump:  # check whether we are doing a jump\n",
    "            new_combination = np.random.binomial(1, 0.5, N)\n",
    "        else:  # if not, then we simply search locally\n",
    "            new_combination = combination.copy()\n",
    "            choice_var = np.random.randint(N)\n",
    "            new_combination[choice_var] = abs(new_combination[choice_var] - 1)\n",
    "        row = np.sum(new_combination*power_key)\n",
    "        new_fitness = Landscape_data[i1, row, 2*N]\n",
    "        if new_fitness > fitness:  # if we have found a better combination\n",
    "            combination = new_combination.copy()\n",
    "            fitness = new_fitness.copy()\n",
    "            fitness_norm = (fitness - min_fit)/(max_fit - min_fit)\n",
    "        # otherwise all stays the same as in the previous round\n",
    "Fitness2 = np.mean(Output2, axis=0)\n",
    "\n",
    "# *** 3. PLOT ***************************************************************\n",
    "\n",
    "# We will do a simple plot of the average fitness value over t periods\n",
    "plt.figure(1, facecolor='white', figsize=(8, 6))\n",
    "plt.plot(Fitness2, color='green', linewidth=2, label='p_jump='+str(p_jump))\n",
    "plt.ylim(0.5, 1)\n",
    "plt.legend(loc=4,prop={'size':10})\n",
    "plt.title('Results of local search', size=12)\n",
    "plt.xlabel('time periods', size=12)\n",
    "plt.ylabel('fitness', size=12)\n",
    "print('Final fitness level for long jumps: ' + str(Fitness2[t-1]))\n",
    "\n",
    "# END OF LINE"
   ]
  }
 ],
 "metadata": {
  "kernelspec": {
   "display_name": "Python 3",
   "language": "python",
   "name": "python3"
  },
  "language_info": {
   "codemirror_mode": {
    "name": "ipython",
    "version": 3
   },
   "file_extension": ".py",
   "mimetype": "text/x-python",
   "name": "python",
   "nbconvert_exporter": "python",
   "pygments_lexer": "ipython3",
   "version": "3.7.9"
  }
 },
 "nbformat": 4,
 "nbformat_minor": 4
}
